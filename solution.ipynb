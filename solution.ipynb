{
 "cells": [
  {
   "cell_type": "markdown",
   "metadata": {},
   "source": [
    "# Ray Mock Interview Answers\n",
    "\n",
    "## Questions:\n",
    "1. Given this dataset, how would you approach studying how interactive users are with this product?  What factors would you need to consider?\n",
    "\n",
    "    A: Could say to look at how many times per day a user logs in, how long they are logged in, or how often they click (clicks per unit time). \n",
    "\n",
    "2. Let's focus on the case where we study how often a user clicks.  Can you write a function that takes in a username and software version, and returns clicks per (unit time)?\n",
    "\n",
    "3. Run your function for each user and store each of their average number of clicks per (unit time).\n",
    "\n",
    "4. How would you analyze which version of the software generates more user interaction?  Are you making any assumptions for this analysis?\n",
    "\n",
    "    A: Should use, e.g., a t-test\n",
    "\n",
    "5. Go ahead and perform this test.  Would you recommend the test build as an improvement over the original?  Why or why not?"
   ]
  },
  {
   "cell_type": "code",
   "execution_count": 1,
   "metadata": {},
   "outputs": [],
   "source": [
    "import numpy as np\n",
    "import pandas as pd\n",
    "from user_info import save_users"
   ]
  },
  {
   "cell_type": "code",
   "execution_count": 2,
   "metadata": {},
   "outputs": [
    {
     "name": "stderr",
     "output_type": "stream",
     "text": [
      "100%|██████████| 25132/25132 [00:06<00:00, 3776.78it/s]\n",
      "100%|██████████| 25132/25132 [00:06<00:00, 3977.89it/s]\n"
     ]
    }
   ],
   "source": [
    "# Generate a mock user dataset\n",
    "save_users()"
   ]
  },
  {
   "cell_type": "markdown",
   "metadata": {},
   "source": [
    "## Read the data"
   ]
  },
  {
   "cell_type": "code",
   "execution_count": 3,
   "metadata": {},
   "outputs": [],
   "source": [
    "filename = 'clickdata.csv'\n",
    "df = pd.read_csv(filename)\n",
    "df['timestamp'] = pd.to_datetime(df['timestamp'])"
   ]
  },
  {
   "cell_type": "code",
   "execution_count": 4,
   "metadata": {},
   "outputs": [
    {
     "data": {
      "text/html": [
       "<div>\n",
       "<style scoped>\n",
       "    .dataframe tbody tr th:only-of-type {\n",
       "        vertical-align: middle;\n",
       "    }\n",
       "\n",
       "    .dataframe tbody tr th {\n",
       "        vertical-align: top;\n",
       "    }\n",
       "\n",
       "    .dataframe thead th {\n",
       "        text-align: right;\n",
       "    }\n",
       "</style>\n",
       "<table border=\"1\" class=\"dataframe\">\n",
       "  <thead>\n",
       "    <tr style=\"text-align: right;\">\n",
       "      <th></th>\n",
       "      <th>UID</th>\n",
       "      <th>timestamp</th>\n",
       "      <th>msg</th>\n",
       "      <th>version</th>\n",
       "    </tr>\n",
       "  </thead>\n",
       "  <tbody>\n",
       "    <tr>\n",
       "      <th>0</th>\n",
       "      <td>4985</td>\n",
       "      <td>2020-03-21 15:17:42</td>\n",
       "      <td>Login</td>\n",
       "      <td>orig</td>\n",
       "    </tr>\n",
       "    <tr>\n",
       "      <th>1</th>\n",
       "      <td>2574</td>\n",
       "      <td>2020-03-21 15:21:53</td>\n",
       "      <td>Login</td>\n",
       "      <td>orig</td>\n",
       "    </tr>\n",
       "    <tr>\n",
       "      <th>2</th>\n",
       "      <td>7294</td>\n",
       "      <td>2020-03-21 15:24:38</td>\n",
       "      <td>Login</td>\n",
       "      <td>orig</td>\n",
       "    </tr>\n",
       "    <tr>\n",
       "      <th>3</th>\n",
       "      <td>9570</td>\n",
       "      <td>2020-03-21 15:25:24</td>\n",
       "      <td>Signal_Level_47</td>\n",
       "      <td>test</td>\n",
       "    </tr>\n",
       "    <tr>\n",
       "      <th>4</th>\n",
       "      <td>5685</td>\n",
       "      <td>2020-03-21 15:30:31</td>\n",
       "      <td>Signal_Level_09</td>\n",
       "      <td>test</td>\n",
       "    </tr>\n",
       "    <tr>\n",
       "      <th>...</th>\n",
       "      <td>...</td>\n",
       "      <td>...</td>\n",
       "      <td>...</td>\n",
       "      <td>...</td>\n",
       "    </tr>\n",
       "    <tr>\n",
       "      <th>357904</th>\n",
       "      <td>1894</td>\n",
       "      <td>2021-03-22 02:05:38</td>\n",
       "      <td>Logout</td>\n",
       "      <td>test</td>\n",
       "    </tr>\n",
       "    <tr>\n",
       "      <th>357905</th>\n",
       "      <td>4329</td>\n",
       "      <td>2021-03-22 02:05:47</td>\n",
       "      <td>record_click</td>\n",
       "      <td>test</td>\n",
       "    </tr>\n",
       "    <tr>\n",
       "      <th>357906</th>\n",
       "      <td>5788</td>\n",
       "      <td>2021-03-22 02:06:19</td>\n",
       "      <td>Logout</td>\n",
       "      <td>test</td>\n",
       "    </tr>\n",
       "    <tr>\n",
       "      <th>357907</th>\n",
       "      <td>4329</td>\n",
       "      <td>2021-03-22 02:10:21</td>\n",
       "      <td>Logout</td>\n",
       "      <td>test</td>\n",
       "    </tr>\n",
       "    <tr>\n",
       "      <th>357908</th>\n",
       "      <td>8004</td>\n",
       "      <td>2021-03-22 02:24:10</td>\n",
       "      <td>Logout</td>\n",
       "      <td>test</td>\n",
       "    </tr>\n",
       "  </tbody>\n",
       "</table>\n",
       "<p>357909 rows × 4 columns</p>\n",
       "</div>"
      ],
      "text/plain": [
       "         UID           timestamp              msg version\n",
       "0       4985 2020-03-21 15:17:42            Login    orig\n",
       "1       2574 2020-03-21 15:21:53            Login    orig\n",
       "2       7294 2020-03-21 15:24:38            Login    orig\n",
       "3       9570 2020-03-21 15:25:24  Signal_Level_47    test\n",
       "4       5685 2020-03-21 15:30:31  Signal_Level_09    test\n",
       "...      ...                 ...              ...     ...\n",
       "357904  1894 2021-03-22 02:05:38           Logout    test\n",
       "357905  4329 2021-03-22 02:05:47     record_click    test\n",
       "357906  5788 2021-03-22 02:06:19           Logout    test\n",
       "357907  4329 2021-03-22 02:10:21           Logout    test\n",
       "357908  8004 2021-03-22 02:24:10           Logout    test\n",
       "\n",
       "[357909 rows x 4 columns]"
      ]
     },
     "execution_count": 4,
     "metadata": {},
     "output_type": "execute_result"
    }
   ],
   "source": [
    "df"
   ]
  },
  {
   "cell_type": "code",
   "execution_count": 5,
   "metadata": {},
   "outputs": [
    {
     "name": "stdout",
     "output_type": "stream",
     "text": [
      "<class 'pandas.core.frame.DataFrame'>\n",
      "RangeIndex: 357909 entries, 0 to 357908\n",
      "Data columns (total 4 columns):\n",
      " #   Column     Non-Null Count   Dtype         \n",
      "---  ------     --------------   -----         \n",
      " 0   UID        357909 non-null  int64         \n",
      " 1   timestamp  357909 non-null  datetime64[ns]\n",
      " 2   msg        357909 non-null  object        \n",
      " 3   version    357909 non-null  object        \n",
      "dtypes: datetime64[ns](1), int64(1), object(2)\n",
      "memory usage: 10.9+ MB\n"
     ]
    }
   ],
   "source": [
    "df.info()"
   ]
  },
  {
   "cell_type": "code",
   "execution_count": 6,
   "metadata": {},
   "outputs": [
    {
     "name": "stdout",
     "output_type": "stream",
     "text": [
      "Important messages:  ['Login', 'Logout', 'record_click']\n"
     ]
    }
   ],
   "source": [
    "messages = df.msg.unique().astype(str)\n",
    "# print(messages)\n",
    "messages_important = [m for m in messages if m[:-2] != 'Signal_Level_']\n",
    "print('Important messages: ', messages_important)"
   ]
  },
  {
   "cell_type": "code",
   "execution_count": 7,
   "metadata": {},
   "outputs": [
    {
     "data": {
      "text/plain": [
       "array(['orig', 'test'], dtype=object)"
      ]
     },
     "execution_count": 7,
     "metadata": {},
     "output_type": "execute_result"
    }
   ],
   "source": [
    "df.version.unique()"
   ]
  },
  {
   "cell_type": "code",
   "execution_count": 8,
   "metadata": {},
   "outputs": [],
   "source": [
    "# Clean the data\n",
    "df_clean = df.query(f'msg in {messages_important}')"
   ]
  },
  {
   "cell_type": "markdown",
   "metadata": {},
   "source": [
    "## Click rate"
   ]
  },
  {
   "cell_type": "code",
   "execution_count": 9,
   "metadata": {},
   "outputs": [],
   "source": [
    "def calc_clicks_per_min(df, uid, version):\n",
    "    '''\n",
    "    Assumes the same number of logins and logouts and\n",
    "    that each logout follows a login.\n",
    "    '''\n",
    "    userdata = df.query(f'UID=={uid} and version=={version!r}')\n",
    "    userdata.reset_index(inplace=True)\n",
    "    idx_login = userdata.query(f'msg=={\"Login\"!r}').index\n",
    "    idx_logout = userdata.query(f'msg=={\"Logout\"!r}').index\n",
    "    clickrate_list = []\n",
    "    for ilin,ilout in zip(idx_login, idx_logout):\n",
    "        time_login = userdata.iloc[ilin].timestamp.timestamp()\n",
    "        time_logout = userdata.iloc[ilout].timestamp.timestamp()\n",
    "        nclicks = ilout - ilin + 1\n",
    "        clickrate_session = nclicks / (time_logout - time_login)\n",
    "        clickrate_list.append(clickrate_session)\n",
    "    clickrate = np.mean(clickrate_list) * 3600\n",
    "    return clickrate"
   ]
  },
  {
   "cell_type": "code",
   "execution_count": 10,
   "metadata": {},
   "outputs": [
    {
     "data": {
      "text/plain": [
       "0.7563158791599855"
      ]
     },
     "execution_count": 10,
     "metadata": {},
     "output_type": "execute_result"
    }
   ],
   "source": [
    "calc_clicks_per_min(df_clean, 4985, 'orig')"
   ]
  },
  {
   "cell_type": "markdown",
   "metadata": {},
   "source": [
    "## Comparing user click rates"
   ]
  },
  {
   "cell_type": "code",
   "execution_count": 11,
   "metadata": {},
   "outputs": [
    {
     "name": "stdout",
     "output_type": "stream",
     "text": [
      "955 users\n"
     ]
    }
   ],
   "source": [
    "users = df_clean.UID.unique()\n",
    "print(f'{len(users)} users')\n",
    "user_clicks_orig = np.array(\n",
    "    [calc_clicks_per_min(df_clean, u, 'orig') for u in users])\n",
    "user_clicks_test = np.array(\n",
    "    [calc_clicks_per_min(df_clean, u, 'test') for u in users])"
   ]
  },
  {
   "cell_type": "markdown",
   "metadata": {},
   "source": [
    "Some diagnostic info:"
   ]
  },
  {
   "cell_type": "code",
   "execution_count": 12,
   "metadata": {},
   "outputs": [],
   "source": [
    "import seaborn as sns\n",
    "import matplotlib.pyplot as plt"
   ]
  },
  {
   "cell_type": "code",
   "execution_count": 13,
   "metadata": {},
   "outputs": [
    {
     "data": {
      "text/plain": [
       "<matplotlib.legend.Legend at 0x1693bc670>"
      ]
     },
     "execution_count": 13,
     "metadata": {},
     "output_type": "execute_result"
    },
    {
     "data": {
      "image/png": "[encoded data removed]",
      "text/plain": [
       "<Figure size 432x288 with 1 Axes>"
      ]
     },
     "metadata": {
      "needs_background": "light"
     },
     "output_type": "display_data"
    }
   ],
   "source": [
    "sns.kdeplot(user_clicks_orig, shade=True, label='orig')\n",
    "sns.kdeplot(user_clicks_test, shade=True, label='test')\n",
    "plt.xlim(0., 5.)\n",
    "plt.legend()"
   ]
  },
  {
   "cell_type": "code",
   "execution_count": 14,
   "metadata": {},
   "outputs": [
    {
     "name": "stdout",
     "output_type": "stream",
     "text": [
      "Means:     0.747722451152561 0.8743736675841907\n",
      "Std devs:  0.41177610395251957 0.6819014555131065\n"
     ]
    }
   ],
   "source": [
    "print('Means:    ', user_clicks_orig.mean(), user_clicks_test.mean())\n",
    "print('Std devs: ', user_clicks_orig.std(), user_clicks_test.std())"
   ]
  },
  {
   "cell_type": "markdown",
   "metadata": {},
   "source": [
    "### one-sided paired t-test\n",
    "`alternative='less'` below makes it one-sided (null hypothesis is that argument 1 is less than argument 2).\n",
    "\n"
   ]
  },
  {
   "cell_type": "code",
   "execution_count": 15,
   "metadata": {},
   "outputs": [],
   "source": [
    "from scipy.stats import ttest_rel"
   ]
  },
  {
   "cell_type": "code",
   "execution_count": 16,
   "metadata": {},
   "outputs": [
    {
     "name": "stdout",
     "output_type": "stream",
     "text": [
      "t = -4.885453154546841\n",
      "p value = 6.048744321835903e-07\n"
     ]
    }
   ],
   "source": [
    "results = ttest_rel(user_clicks_orig, user_clicks_test, alternative='less')\n",
    "print(f't = {results.statistic}')\n",
    "print(f'p value = {results.pvalue}')"
   ]
  },
  {
   "cell_type": "markdown",
   "metadata": {},
   "source": [
    "## Assumptions\n",
    "- Logins precede logouts.\n",
    "- The click rate uses the time between login and logout (rather than, e.g., the time between first and last click).\n",
    "- Each user has used both the orig and test versions. (Otherwise, we would use an *unpaired* t-test.---I think this code mostly still works.)"
   ]
  },
  {
   "cell_type": "markdown",
   "metadata": {},
   "source": [
    "## Recommendation\n",
    "\n",
    "(Assuming that the click rate is actually a good metric for interactivity,) I would recommend the test build. The p-value is extremely small."
   ]
  },
  {
   "cell_type": "markdown",
   "metadata": {},
   "source": []
  }
 ],
 "metadata": {
  "interpreter": {
   "hash": "637eba8ecb2a0a1cc7959fc2fde9124e8da4cd33616cb5ca4196cb46f0d66f57"
  },
  "kernelspec": {
   "display_name": "Python 3.9.7 ('base')",
   "language": "python",
   "name": "python3"
  },
  "language_info": {
   "codemirror_mode": {
    "name": "ipython",
    "version": 3
   },
   "file_extension": ".py",
   "mimetype": "text/x-python",
   "name": "python",
   "nbconvert_exporter": "python",
   "pygments_lexer": "ipython3",
   "version": "3.9.7"
  },
  "orig_nbformat": 4
 },
 "nbformat": 4,
 "nbformat_minor": 2
}
