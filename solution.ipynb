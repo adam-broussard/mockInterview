{
 "cells": [
  {
   "cell_type": "markdown",
   "metadata": {},
   "source": [
    "# Mock Interview Answers\n",
    "\n",
    "## Questions:\n",
    "1. Given this dataset, how would you approach studying how interactive users are with this product?  What factors would you need to consider?  \n",
    "    A: Could say to look at how many times per day a user logs in, how long they are logged in, or how often they click (clicks per unit time or click per login).  You might need to consider cases when a user logs in and forgets to log out, unintentional clicks, etc.\n",
    "\n",
    "2. Let's focus on the case where we study how often a user clicks.  Can you write a function that takes in a username and software version, and returns clicks per (unit time)?\n",
    "\n",
    "3. Run your function for each user and store each of their average number of clicks per (unit time).\n",
    "\n",
    "4. How would you analyze which version of the software generates more user interaction?  Are you making any assumptions for this analysis?  \n",
    "    A: Should use, e.g., a paired t-test.  Why?  Because these are the same set of users testing both versions!\n",
    "\n",
    "5. Go ahead and perform this test.  Would you recommend the test build as an improvement over the original based on your analysis so far?  Why or why not?  \n",
    "    A: Based on our results below, we should recommend the test version of the software because it has a p-value < 0.05.\n",
    "\n",
    "6. Are there any caveats the team should know about your result?  \n",
    "    A: Maybe this result shouldn't be used if it increases user interaction, but decreases the total number of users!  Maybe this increases the number of clicks but decreases the amount of time they spend using the product (another way of viewing \"user engagement\").  Lots of things need to be tested before a result like this one was put into production!"
   ]
  },
  {
   "cell_type": "code",
   "execution_count": 1,
   "metadata": {},
   "outputs": [],
   "source": [
    "import pandas as pd\n",
    "from user_info import save_users"
   ]
  },
  {
   "cell_type": "code",
   "execution_count": 2,
   "metadata": {},
   "outputs": [
    {
     "name": "stderr",
     "output_type": "stream",
     "text": [
      "100%|███████████████████████████████████████████████████| 5074/5074 [00:03<00:00, 1549.76it/s]\n",
      "100%|███████████████████████████████████████████████████| 5089/5089 [00:03<00:00, 1509.22it/s]\n"
     ]
    }
   ],
   "source": [
    "# Generate a mock user dataset\n",
    "save_users()"
   ]
  },
  {
   "cell_type": "markdown",
   "metadata": {},
   "source": [
    "## Read the data\n",
    "\n",
    "These are a few simple initial checks of the data that the interviewee may or may not do to get a sense of what is in the file."
   ]
  },
  {
   "cell_type": "code",
   "execution_count": 3,
   "metadata": {},
   "outputs": [],
   "source": [
    "data = pd.read_csv('clickdata.csv', parse_dates=['timestamp'])"
   ]
  },
  {
   "cell_type": "code",
   "execution_count": 4,
   "metadata": {},
   "outputs": [
    {
     "data": {
      "text/html": [
       "<div>\n",
       "<style scoped>\n",
       "    .dataframe tbody tr th:only-of-type {\n",
       "        vertical-align: middle;\n",
       "    }\n",
       "\n",
       "    .dataframe tbody tr th {\n",
       "        vertical-align: top;\n",
       "    }\n",
       "\n",
       "    .dataframe thead th {\n",
       "        text-align: right;\n",
       "    }\n",
       "</style>\n",
       "<table border=\"1\" class=\"dataframe\">\n",
       "  <thead>\n",
       "    <tr style=\"text-align: right;\">\n",
       "      <th></th>\n",
       "      <th>UID</th>\n",
       "      <th>timestamp</th>\n",
       "      <th>msg</th>\n",
       "      <th>version</th>\n",
       "    </tr>\n",
       "  </thead>\n",
       "  <tbody>\n",
       "    <tr>\n",
       "      <th>0</th>\n",
       "      <td>1107</td>\n",
       "      <td>2020-03-21 17:44:30</td>\n",
       "      <td>Login</td>\n",
       "      <td>test</td>\n",
       "    </tr>\n",
       "    <tr>\n",
       "      <th>1</th>\n",
       "      <td>1114</td>\n",
       "      <td>2020-03-21 17:54:21</td>\n",
       "      <td>Login</td>\n",
       "      <td>orig</td>\n",
       "    </tr>\n",
       "    <tr>\n",
       "      <th>2</th>\n",
       "      <td>9570</td>\n",
       "      <td>2020-03-21 17:57:52</td>\n",
       "      <td>Signal_Level_47</td>\n",
       "      <td>orig</td>\n",
       "    </tr>\n",
       "    <tr>\n",
       "      <th>3</th>\n",
       "      <td>5685</td>\n",
       "      <td>2020-03-21 18:02:59</td>\n",
       "      <td>Signal_Level_09</td>\n",
       "      <td>orig</td>\n",
       "    </tr>\n",
       "    <tr>\n",
       "      <th>4</th>\n",
       "      <td>9213</td>\n",
       "      <td>2020-03-21 18:08:57</td>\n",
       "      <td>Signal_Level_66</td>\n",
       "      <td>orig</td>\n",
       "    </tr>\n",
       "    <tr>\n",
       "      <th>...</th>\n",
       "      <td>...</td>\n",
       "      <td>...</td>\n",
       "      <td>...</td>\n",
       "      <td>...</td>\n",
       "    </tr>\n",
       "    <tr>\n",
       "      <th>85267</th>\n",
       "      <td>972</td>\n",
       "      <td>2021-03-21 22:42:16</td>\n",
       "      <td>Signal_Level_48</td>\n",
       "      <td>orig</td>\n",
       "    </tr>\n",
       "    <tr>\n",
       "      <th>85268</th>\n",
       "      <td>247</td>\n",
       "      <td>2021-03-21 23:11:39</td>\n",
       "      <td>Logout</td>\n",
       "      <td>test</td>\n",
       "    </tr>\n",
       "    <tr>\n",
       "      <th>85269</th>\n",
       "      <td>3298</td>\n",
       "      <td>2021-03-21 23:26:32</td>\n",
       "      <td>Signal_Level_64</td>\n",
       "      <td>orig</td>\n",
       "    </tr>\n",
       "    <tr>\n",
       "      <th>85270</th>\n",
       "      <td>2182</td>\n",
       "      <td>2021-03-21 23:42:55</td>\n",
       "      <td>record_click</td>\n",
       "      <td>test</td>\n",
       "    </tr>\n",
       "    <tr>\n",
       "      <th>85271</th>\n",
       "      <td>2182</td>\n",
       "      <td>2021-03-22 00:11:05</td>\n",
       "      <td>Logout</td>\n",
       "      <td>test</td>\n",
       "    </tr>\n",
       "  </tbody>\n",
       "</table>\n",
       "<p>85272 rows × 4 columns</p>\n",
       "</div>"
      ],
      "text/plain": [
       "        UID           timestamp              msg version\n",
       "0      1107 2020-03-21 17:44:30            Login    test\n",
       "1      1114 2020-03-21 17:54:21            Login    orig\n",
       "2      9570 2020-03-21 17:57:52  Signal_Level_47    orig\n",
       "3      5685 2020-03-21 18:02:59  Signal_Level_09    orig\n",
       "4      9213 2020-03-21 18:08:57  Signal_Level_66    orig\n",
       "...     ...                 ...              ...     ...\n",
       "85267   972 2021-03-21 22:42:16  Signal_Level_48    orig\n",
       "85268   247 2021-03-21 23:11:39           Logout    test\n",
       "85269  3298 2021-03-21 23:26:32  Signal_Level_64    orig\n",
       "85270  2182 2021-03-21 23:42:55     record_click    test\n",
       "85271  2182 2021-03-22 00:11:05           Logout    test\n",
       "\n",
       "[85272 rows x 4 columns]"
      ]
     },
     "execution_count": 4,
     "metadata": {},
     "output_type": "execute_result"
    }
   ],
   "source": [
    "data"
   ]
  },
  {
   "cell_type": "code",
   "execution_count": 5,
   "metadata": {},
   "outputs": [
    {
     "name": "stdout",
     "output_type": "stream",
     "text": [
      "<class 'pandas.core.frame.DataFrame'>\n",
      "RangeIndex: 85272 entries, 0 to 85271\n",
      "Data columns (total 4 columns):\n",
      " #   Column     Non-Null Count  Dtype         \n",
      "---  ------     --------------  -----         \n",
      " 0   UID        85272 non-null  int64         \n",
      " 1   timestamp  85272 non-null  datetime64[ns]\n",
      " 2   msg        85272 non-null  object        \n",
      " 3   version    85272 non-null  object        \n",
      "dtypes: datetime64[ns](1), int64(1), object(2)\n",
      "memory usage: 2.6+ MB\n"
     ]
    }
   ],
   "source": [
    "data.info()"
   ]
  },
  {
   "cell_type": "code",
   "execution_count": 6,
   "metadata": {},
   "outputs": [
    {
     "name": "stdout",
     "output_type": "stream",
     "text": [
      "Important messages:  ['Login', 'record_click', 'Logout']\n"
     ]
    }
   ],
   "source": [
    "messages = data.msg.unique().astype(str)\n",
    "# print(messages)\n",
    "messages_important = [m for m in messages if m[:-2] != 'Signal_Level_']\n",
    "print('Important messages: ', messages_important)"
   ]
  },
  {
   "cell_type": "code",
   "execution_count": 7,
   "metadata": {},
   "outputs": [
    {
     "data": {
      "text/plain": [
       "array(['test', 'orig'], dtype=object)"
      ]
     },
     "execution_count": 7,
     "metadata": {},
     "output_type": "execute_result"
    }
   ],
   "source": [
    "data.version.unique()"
   ]
  },
  {
   "cell_type": "code",
   "execution_count": 8,
   "metadata": {},
   "outputs": [],
   "source": [
    "# Clean the data\n",
    "clean_data = data[data.msg.isin(messages_important)]"
   ]
  },
  {
   "cell_type": "markdown",
   "metadata": {},
   "source": [
    "## Click rate"
   ]
  },
  {
   "cell_type": "code",
   "execution_count": 9,
   "metadata": {},
   "outputs": [],
   "source": [
    "def calc_clicks_per_day(data, uid, version):\n",
    "    '''\n",
    "    Assumes the same number of logins and logouts and\n",
    "    that each logout follows a login.\n",
    "    '''\n",
    "    userdata = data[(data.UID == uid) & (data.version == version)]\n",
    "    \n",
    "    login_data = userdata[userdata.msg == 'Login']\n",
    "    logout_data = userdata[userdata.msg == 'Logout']\n",
    "    login_data.reset_index(inplace=True)\n",
    "    logout_data.reset_index(inplace=True)\n",
    "    \n",
    "    time_logged_in = (logout_data.timestamp - login_data.timestamp).sum()\n",
    "    \n",
    "    clicks = (userdata.msg == 'record_click').sum()\n",
    "    \n",
    "    clickrate = clicks/(time_logged_in/pd.to_timedelta(1, unit='D'))\n",
    "    return clickrate"
   ]
  },
  {
   "cell_type": "code",
   "execution_count": 10,
   "metadata": {},
   "outputs": [
    {
     "data": {
      "text/plain": [
       "19.909048396825504"
      ]
     },
     "execution_count": 10,
     "metadata": {},
     "output_type": "execute_result"
    }
   ],
   "source": [
    "calc_clicks_per_day(clean_data, 4985, 'orig')"
   ]
  },
  {
   "cell_type": "markdown",
   "metadata": {},
   "source": [
    "## Comparing user click rates"
   ]
  },
  {
   "cell_type": "code",
   "execution_count": 11,
   "metadata": {},
   "outputs": [
    {
     "name": "stdout",
     "output_type": "stream",
     "text": [
      "955 users\n"
     ]
    }
   ],
   "source": [
    "users = clean_data.UID.unique()\n",
    "print(f'{len(users)} users')\n",
    "\n",
    "user_clicks_orig = [(u, calc_clicks_per_day(clean_data, u, 'orig')) for u in users]\n",
    "user_clicks_test = [(u, calc_clicks_per_day(clean_data, u, 'test')) for u in users]\n",
    "user_clicks_orig = pd.DataFrame(user_clicks_orig, columns = ['UID', 'avg_clicks'])\n",
    "user_clicks_test = pd.DataFrame(user_clicks_test, columns = ['UID', 'avg_clicks'])\n",
    "\n",
    "# np.array(\n",
    "#     [calc_clicks_per_min(clean_data, u, 'orig') for u in users])\n",
    "# user_clicks_test = np.array(\n",
    "#     [calc_clicks_per_min(clean_data, u, 'test') for u in users])"
   ]
  },
  {
   "cell_type": "markdown",
   "metadata": {},
   "source": [
    "Some diagnostic info:"
   ]
  },
  {
   "cell_type": "code",
   "execution_count": 12,
   "metadata": {},
   "outputs": [],
   "source": [
    "import seaborn as sns\n",
    "import matplotlib.pyplot as plt"
   ]
  },
  {
   "cell_type": "code",
   "execution_count": 13,
   "metadata": {},
   "outputs": [
    {
     "data": {
      "text/plain": [
       "<matplotlib.legend.Legend at 0x7fc1dd76b3c8>"
      ]
     },
     "execution_count": 13,
     "metadata": {},
     "output_type": "execute_result"
    },
    {
     "data": {
      "image/png": "[encoded data removed]",
      "text/plain": [
       "<Figure size 432x288 with 1 Axes>"
      ]
     },
     "metadata": {
      "needs_background": "light"
     },
     "output_type": "display_data"
    }
   ],
   "source": [
    "sns.kdeplot(user_clicks_orig.avg_clicks, shade=True, label='orig')\n",
    "sns.kdeplot(user_clicks_test.avg_clicks, shade=True, label='test')\n",
    "plt.xlim(0., 50.)\n",
    "plt.legend()"
   ]
  },
  {
   "cell_type": "code",
   "execution_count": 14,
   "metadata": {
    "scrolled": true
   },
   "outputs": [
    {
     "name": "stdout",
     "output_type": "stream",
     "text": [
      "Means:     15.191579016448669 16.248554866782644\n",
      "Std devs:  7.000313734637303 8.080006989540465\n"
     ]
    }
   ],
   "source": [
    "print('Means:    ', user_clicks_orig.avg_clicks.mean(), user_clicks_test.avg_clicks.mean())\n",
    "print('Std devs: ', user_clicks_orig.avg_clicks.std(), user_clicks_test.avg_clicks.std())"
   ]
  },
  {
   "cell_type": "markdown",
   "metadata": {},
   "source": [
    "### One-sided paired t-test\n",
    "`alternative='less'` below makes it one-sided (null hypothesis is that argument 1 is less than argument 2).\n",
    "\n"
   ]
  },
  {
   "cell_type": "code",
   "execution_count": 15,
   "metadata": {},
   "outputs": [],
   "source": [
    "from scipy.stats import ttest_rel"
   ]
  },
  {
   "cell_type": "code",
   "execution_count": 16,
   "metadata": {},
   "outputs": [
    {
     "name": "stdout",
     "output_type": "stream",
     "text": [
      "t = -3.068678318363722\n",
      "p value = 0.0011054126456494626\n"
     ]
    }
   ],
   "source": [
    "results = ttest_rel(user_clicks_orig.avg_clicks, user_clicks_test.avg_clicks, alternative='less')\n",
    "print(f't = {results.statistic}')\n",
    "print(f'p value = {results.pvalue}')"
   ]
  },
  {
   "cell_type": "markdown",
   "metadata": {},
   "source": [
    "## Assumptions\n",
    "- Logins precede logouts.\n",
    "- The click rate uses the time between login and logout (rather than, e.g., the time between first and last click).\n",
    "- Each user has used both the orig and test versions. (Otherwise, we would use an *unpaired* t-test.---I think this code mostly still works.)"
   ]
  },
  {
   "cell_type": "markdown",
   "metadata": {},
   "source": [
    "## Recommendation\n",
    "\n",
    "(Assuming that the click rate is actually a good metric for interactivity,) I would recommend the test build. The p-value is extremely small."
   ]
  }
 ],
 "metadata": {
  "interpreter": {
   "hash": "637eba8ecb2a0a1cc7959fc2fde9124e8da4cd33616cb5ca4196cb46f0d66f57"
  },
  "kernelspec": {
   "display_name": "Python 3 (ipykernel)",
   "language": "python",
   "name": "python3"
  },
  "language_info": {
   "codemirror_mode": {
    "name": "ipython",
    "version": 3
   },
   "file_extension": ".py",
   "mimetype": "text/x-python",
   "name": "python",
   "nbconvert_exporter": "python",
   "pygments_lexer": "ipython3",
   "version": "3.7.1"
  }
 },
 "nbformat": 4,
 "nbformat_minor": 2
}
